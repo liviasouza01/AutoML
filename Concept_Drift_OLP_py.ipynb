{
  "nbformat": 4,
  "nbformat_minor": 0,
  "metadata": {
    "colab": {
      "provenance": [],
      "authorship_tag": "ABX9TyOEO4r/Qagjv0fopl0rCDDJ",
      "include_colab_link": true
    },
    "kernelspec": {
      "name": "python3",
      "display_name": "Python 3"
    },
    "language_info": {
      "name": "python"
    }
  },
  "cells": [
    {
      "cell_type": "markdown",
      "metadata": {
        "id": "view-in-github",
        "colab_type": "text"
      },
      "source": [
        "<a href=\"https://colab.research.google.com/github/liviasouza01/AutoML/blob/main/Concept_Drift_OLP_py.ipynb\" target=\"_parent\"><img src=\"https://colab.research.google.com/assets/colab-badge.svg\" alt=\"Open In Colab\"/></a>"
      ]
    },
    {
      "cell_type": "code",
      "execution_count": 1,
      "metadata": {
        "colab": {
          "base_uri": "https://localhost:8080/",
          "height": 384
        },
        "id": "vW8KRdDk-gMs",
        "outputId": "0be31a72-40ab-48ac-e104-0f4aca14b62e"
      },
      "outputs": [
        {
          "output_type": "error",
          "ename": "ModuleNotFoundError",
          "evalue": "No module named 'skmultiflow'",
          "traceback": [
            "\u001b[0;31m---------------------------------------------------------------------------\u001b[0m",
            "\u001b[0;31mModuleNotFoundError\u001b[0m                       Traceback (most recent call last)",
            "\u001b[0;32m<ipython-input-1-eb1bec652d34>\u001b[0m in \u001b[0;36m<cell line: 1>\u001b[0;34m()\u001b[0m\n\u001b[0;32m----> 1\u001b[0;31m from skmultiflow.data import (SEAGenerator, STAGGERGenerator, SineGenerator,\n\u001b[0m\u001b[1;32m      2\u001b[0m                               HyperplaneGenerator, SineGenerator, RandomRBFGeneratorDrift, FileStream)\n\u001b[1;32m      3\u001b[0m \u001b[0;32mfrom\u001b[0m \u001b[0msklearn\u001b[0m\u001b[0;34m.\u001b[0m\u001b[0mmetrics\u001b[0m \u001b[0;32mimport\u001b[0m \u001b[0maccuracy_score\u001b[0m\u001b[0;34m,\u001b[0m \u001b[0mprecision_score\u001b[0m\u001b[0;34m,\u001b[0m \u001b[0mrecall_score\u001b[0m\u001b[0;34m,\u001b[0m \u001b[0mf1_score\u001b[0m\u001b[0;34m\u001b[0m\u001b[0;34m\u001b[0m\u001b[0m\n\u001b[1;32m      4\u001b[0m \u001b[0;32mimport\u001b[0m \u001b[0mnumpy\u001b[0m \u001b[0;32mas\u001b[0m \u001b[0mnp\u001b[0m\u001b[0;34m\u001b[0m\u001b[0;34m\u001b[0m\u001b[0m\n\u001b[1;32m      5\u001b[0m \u001b[0;34m\u001b[0m\u001b[0m\n",
            "\u001b[0;31mModuleNotFoundError\u001b[0m: No module named 'skmultiflow'",
            "",
            "\u001b[0;31m---------------------------------------------------------------------------\u001b[0;32m\nNOTE: If your import is failing due to a missing package, you can\nmanually install dependencies using either !pip or !apt.\n\nTo view examples of installing some common dependencies, click the\n\"Open Examples\" button below.\n\u001b[0;31m---------------------------------------------------------------------------\u001b[0m\n"
          ],
          "errorDetails": {
            "actions": [
              {
                "action": "open_url",
                "actionText": "Open Examples",
                "url": "/notebooks/snippets/importing_libraries.ipynb"
              }
            ]
          }
        }
      ],
      "source": [
        "from skmultiflow.data import (SEAGenerator, STAGGERGenerator, SineGenerator,\n",
        "                              HyperplaneGenerator, SineGenerator, RandomRBFGeneratorDrift, FileStream)\n",
        "from sklearn.metrics import accuracy_score, precision_score, recall_score, f1_score\n",
        "import numpy as np\n",
        "\n",
        "window_size = 1000\n",
        "evaluation_interval = 10\n",
        "max_iterations = 10\n",
        "\n",
        "# Inicializa o stream de dados e o conjunto DSEL\n",
        "stream = SEAGenerator()\n",
        "#stream = FileStream('https://raw.githubusercontent.com/scikit-multiflow/streaming-datasets/master/covtype.csv')\n",
        "X_dsel, y_dsel = stream.next_sample(window_size)\n",
        "\n",
        "# Inicializa o modelo OLP\n",
        "model = OLP()\n",
        "model.fit(X_dsel, y_dsel)\n",
        "\n",
        "# Inicializa as listas para armazenar as métricas de avaliação\n",
        "accuracy_list = []\n",
        "precision_list = []\n",
        "recall_list = []\n",
        "f1_list = []\n",
        "\n",
        "for i in range(max_iterations):\n",
        "    # Gera um novo lote de dados\n",
        "    X_batch, y_batch = stream.next_sample(window_size)\n",
        "\n",
        "    # Adiciona todos os padrões do lote ao conjunto DSEL\n",
        "    X_dsel = np.concatenate([X_dsel, X_batch])\n",
        "    y_dsel = np.concatenate([y_dsel, y_batch])\n",
        "\n",
        "    # Treina o modelo OLP com os dados do DSEL atualizados\n",
        "    model.fit(X_dsel, y_dsel)\n",
        "\n",
        "    # Avalia o modelo em intervalos regulares\n",
        "    print(i)\n",
        "    if i == i: #TALVEZ NAO PRECISE DESSE IF\n",
        "        # Gera uma nova amostra de validação\n",
        "        X_validation, y_validation = stream.next_sample(window_size)\n",
        "\n",
        "        # Faz previsões usando o modelo OLP\n",
        "        y_pred = model.predict(X_validation)\n",
        "\n",
        "        # Calcula as métricas de avaliação\n",
        "        accuracy = accuracy_score(y_validation, y_pred)\n",
        "        precision = precision_score(y_validation, y_pred, average='weighted')\n",
        "        recall = recall_score(y_validation, y_pred, average='weighted')\n",
        "        f1 = f1_score(y_validation, y_pred, average='weighted')\n",
        "        print(accuracy)\n",
        "        # Adiciona as métricas à lista\n",
        "        accuracy_list.append(accuracy)\n",
        "        precision_list.append(precision)\n",
        "        recall_list.append(recall)\n",
        "        f1_list.append(f1)\n",
        "        print(accuracy_list)\n",
        "        print(i)\n",
        "# Calcula a média das métricas de avaliação\n",
        "mean_accuracy = np.mean(accuracy_list)\n",
        "mean_precision = np.mean(precision_list)\n",
        "mean_recall = np.mean(recall_list)\n",
        "mean_f1 = np.mean(f1_list)\n",
        "median_accuracy = np.median(accuracy_list)\n",
        "\n",
        "\n",
        "print(\"Médias das Métricas de Avaliação:\")\n",
        "print(f\"Acurácia: {mean_accuracy}\")\n",
        "print(f\"Mediana: {median_accuracy}\")\n",
        "print(f\"Precisão: {mean_precision}\")\n",
        "print(f\"Recall: {mean_recall}\")\n",
        "print(f\"F1-Score: {mean_f1}\")\n"
      ]
    },
    {
      "cell_type": "code",
      "source": [],
      "metadata": {
        "id": "A4i-FcMZC4Ou"
      },
      "execution_count": null,
      "outputs": []
    }
  ]
}